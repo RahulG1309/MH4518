{
 "cells": [
  {
   "cell_type": "markdown",
   "metadata": {},
   "source": [
    "### Implied Volatility Model\n",
    "Computed by minimizing the squarred differences between the simulated and observed prices."
   ]
  },
  {
   "cell_type": "code",
   "execution_count": null,
   "metadata": {},
   "outputs": [],
   "source": [
    "from scipy.optimize import minimize\n",
    "\n",
    "# Convert the Pandas Series to a NumPy array for consistent calculations\n",
    "observed_values = product_prices[\"value\"].to_numpy()\n",
    "\n",
    "# Function to calculate mean squared error\n",
    "def mean_squared_error(simulated, observed):\n",
    "    return np.mean((simulated - observed) ** 2)\n",
    "\n",
    "# Function to simulate GBM and calculate expected value\n",
    "def simulate_and_calculate_expected_value(sigma):\n",
    "    GBM_expected_values = []\n",
    "\n",
    "    for date, prices in zip(simulation_dates, backtest_windows):\n",
    "        # Convert date to index (so we can lookup prices and interest rate curves)\n",
    "        date_index = simulation_dates.get_loc(date)\n",
    "\n",
    "        # Estimate r\n",
    "        delta = len(product_lifetime[date:])\n",
    "        tau = delta / 252\n",
    "        curve_fit = curves[date_index]\n",
    "        r = curve_fit(tau)/100\n",
    "\n",
    "        # Ensure sigma is a scalar for compatibility with simulation function\n",
    "        sigma_scalar = sigma.item() if isinstance(sigma, np.ndarray) else sigma\n",
    "\n",
    "        # Simulate prices, calculate payoff and expected value for the given sigma\n",
    "        simulated_prices = simulate_GBM(num_sim, prices[-1], r, sigma_scalar, delta_t, tau, Z=Z_matrix[date_index])\n",
    "        payoffs = np.exp(-r*tau)*np.apply_along_axis(func1d=calculate_payoff, axis=1, arr=simulated_prices)\n",
    "        expected_value = np.mean(payoffs)\n",
    "        GBM_expected_values.append(expected_value)\n",
    "\n",
    "    return GBM_expected_values\n",
    "\n",
    "# Function to minimize\n",
    "def objective_function(sigma):\n",
    "    simulated_values = simulate_and_calculate_expected_value(sigma)\n",
    "    mse = mean_squared_error(simulated_values, observed_values)\n",
    "    return mse\n",
    "\n",
    "# Initial guess for sigma\n",
    "initial_sigma = 0.2  # Adjust this based on your prior knowledge\n",
    "\n",
    "# Run optimization to find the implied volatility\n",
    "result = minimize(objective_function, initial_sigma, method='Nelder-Mead')\n",
    "\n",
    "# The optimal sigma (implied volatility)\n",
    "implied_volatility = result.x[0]\n",
    "\n",
    "# Print or return the implied volatility\n",
    "print(\"Implied Volatility:\", implied_volatility)\n",
    "print(\"Historical Volatility:\", sigma)"
   ]
  },
  {
   "cell_type": "markdown",
   "metadata": {},
   "source": [
    "Simulating using the implied volatility as computed above;"
   ]
  },
  {
   "cell_type": "code",
   "execution_count": null,
   "metadata": {},
   "outputs": [],
   "source": [
    "# GBM without Variance Reduction and the Implied Volatility Approach\n",
    "GBM_expected_values_implied_sigma = []\n",
    "\n",
    "for date, prices in zip(simulation_dates, backtest_windows):\n",
    "  # Convert date to index (so we can lookup prices and interest rate curves)\n",
    "  date_index = simulation_dates.get_loc(date)\n",
    "\n",
    "  # Estimate r\n",
    "  #delta = num_periods - date_index     # Correct this \n",
    "  delta = len(product_lifetime[date:])\n",
    "  tau = delta / 252\n",
    "  curve_fit = curves[date_index]\n",
    "  r = curve_fit(tau)/100\n",
    "\n",
    "  # Calulcate mu and sigma (we discard mu)\n",
    "  sigma = implied_volatility\n",
    "\n",
    "  # Simulate prices, calculate payoff and expected value\n",
    "  simulated_prices = simulate_GBM(num_sim, prices[-1], r, sigma, delta_t, tau, Z=Z_matrix[date_index])\n",
    "  payoffs = np.exp(-r*tau)*np.apply_along_axis(func1d=calculate_payoff, axis=1, arr=simulated_prices)\n",
    "  expected_value = np.mean(payoffs)\n",
    "  GBM_expected_values_implied_sigma.append(expected_value)"
   ]
  },
  {
   "cell_type": "markdown",
   "metadata": {},
   "source": [
    "and plotting the results:"
   ]
  },
  {
   "cell_type": "code",
   "execution_count": null,
   "metadata": {},
   "outputs": [],
   "source": [
    "simulation_reults['Implied volatility'] = GBM_expected_values_implied_sigma\n",
    "\n",
    "plt.figure(figsize=(14,8))\n",
    "plt.title('Backtesting ',fontdict={\"fontsize\":18})\n",
    "\n",
    "simulation_reults['Actual'].plot(legend=True)\n",
    "simulation_reults['GBM'].plot(legend=True,style=\"--\")\n",
    "simulation_reults['Implied volatility'].plot(legend=True,style=\"--\")\n",
    "\n",
    "plt.xlabel('Market Days')\n",
    "plt.ylabel('Derivative Price in USD')"
   ]
  }
 ],
 "metadata": {
  "language_info": {
   "name": "python"
  }
 },
 "nbformat": 4,
 "nbformat_minor": 2
}
