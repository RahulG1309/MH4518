{
 "cells": [
  {
   "cell_type": "markdown",
   "metadata": {},
   "source": [
    "## MH4518 Group Project\n",
    "\n",
    "Product: https://derivative.credit-suisse.com/ch/ch/en/detail/drop-back-certificate-s-p-500/CH1199361879/119936187\n"
   ]
  },
  {
   "cell_type": "markdown",
   "metadata": {},
   "source": [
    "### 1. Initial Set-up\n",
    "\n",
    "<ol>\n",
    "<li> Set directories\n",
    "<li> Install dependencies\n",
    "<li> Import libraries\n",
    "</ol>\n",
    "\n",
    "NOTE: Ensure you are using the correct kernel to run the Jupyter Notebook with the correctly set root driectory."
   ]
  },
  {
   "cell_type": "code",
   "execution_count": 104,
   "metadata": {},
   "outputs": [],
   "source": [
    "import os, sys\n",
    "\n",
    "# Set the root directory accordingly\n",
    "ROOT_DIR = \"d:/Coding/MH4518\"\n",
    "os.chdir(ROOT_DIR)\n",
    "sys.path.append(ROOT_DIR)\n",
    "\n",
    "# The data directory is set relative to root\n",
    "DATA_DIR = os.path.join(ROOT_DIR, \"./data\")"
   ]
  },
  {
   "cell_type": "code",
   "execution_count": 105,
   "metadata": {},
   "outputs": [],
   "source": [
    "# Install additional libraries using pip\n",
    "#! pip install -r requirements.txt\n",
    "\n",
    "# Or if you have Conda installed (reccommended)\n",
    "# conda env create -f environment.yml"
   ]
  },
  {
   "cell_type": "code",
   "execution_count": 106,
   "metadata": {},
   "outputs": [],
   "source": [
    "import numpy as np\n",
    "import pandas as pd\n",
    "import matplotlib.pyplot as plt\n",
    "\n",
    "from numba import jit\n",
    "from nelson_siegel_svensson.calibrate import calibrate_ns_ols "
   ]
  },
  {
   "cell_type": "code",
   "execution_count": 107,
   "metadata": {},
   "outputs": [],
   "source": [
    "# OPTIONAL: Suppresing the Deprecation Notices while using numba (reccommended)\n",
    "from numba.core.errors import NumbaDeprecationWarning, NumbaPendingDeprecationWarning\n",
    "import warnings\n",
    "\n",
    "warnings.simplefilter('ignore', category=NumbaDeprecationWarning)\n",
    "warnings.simplefilter('ignore', category=NumbaPendingDeprecationWarning)"
   ]
  },
  {
   "cell_type": "markdown",
   "metadata": {},
   "source": [
    "### 2. Loading Data\n",
    "\n",
    "The asset and product price data was collected and preprocessed using the scripts present in the `/data` directory.\n",
    "<li> Start date: 09-08-2022\n",
    "<li> End date: 09-11-2023\n",
    "<br>\n",
    "\n",
    "TODO: Update datasets (currently only till Oct 20)"
   ]
  },
  {
   "cell_type": "code",
   "execution_count": 108,
   "metadata": {},
   "outputs": [],
   "source": [
    "# Load price data\n",
    "asset_prices = pd.read_csv(os.path.join(DATA_DIR, \"asset_price_1_year.csv\"))\n",
    "asset_prices[\"date\"] = pd.to_datetime(asset_prices[\"date\"])\n",
    "asset_prices = asset_prices.set_index(\"date\")\n",
    "\n",
    "product_prices = pd.read_csv(os.path.join(DATA_DIR, \"product_price_1_year.csv\"))\n",
    "product_prices[\"date\"] = pd.to_datetime(product_prices[\"date\"])\n",
    "product_prices = product_prices.set_index(\"date\")\n",
    "\n",
    "# Sanity check\n",
    "assert len(asset_prices) == len(product_prices)"
   ]
  },
  {
   "cell_type": "code",
   "execution_count": 109,
   "metadata": {},
   "outputs": [
    {
     "data": {
      "text/plain": [
       "(301, 13)"
      ]
     },
     "execution_count": 109,
     "metadata": {},
     "output_type": "execute_result"
    }
   ],
   "source": [
    "# Load data on daily interest rate\n",
    "interest_rates = pd.read_csv(os.path.join(DATA_DIR, \"daily_treasury_rate_1_year.csv\"))\n",
    "interest_rates[\"date\"] = pd.to_datetime(interest_rates[\"date\"])\n",
    "interest_rates = interest_rates.set_index(\"date\")\n",
    "\n",
    "interest_rates.shape"
   ]
  },
  {
   "cell_type": "markdown",
   "metadata": {},
   "source": [
    "### 3. Payoff Function"
   ]
  },
  {
   "cell_type": "code",
   "execution_count": 110,
   "metadata": {},
   "outputs": [],
   "source": [
    "def find_trigger_price(S_path, trigger):\n",
    "    '''\n",
    "    Returns the price that triggered the event, if it exists, else None.\n",
    "    '''\n",
    "    # Return the first price that triggers the event\n",
    "    for price in S_path:\n",
    "        if price <= trigger:\n",
    "            return price\n",
    "        \n",
    "    return None\n",
    "\n",
    "\n",
    "def calculate_payoff(S_path, Y_0 = 1000, rate = 0.0985, years = 3):\n",
    "    '''\n",
    "    Computes the payoff of a simulated path.\n",
    "    '''\n",
    "    S_0 = 3790.38   # From factsheet\n",
    "    S_T = S_path[-1]\n",
    "    S_t1 = find_trigger_price(S_path, trigger = 0.90*S_0)   # 3,411.3420 \n",
    "    S_t2 = find_trigger_price(S_path, trigger = 0.85*S_0)   # 3,221.8230\n",
    "    S_t3 = find_trigger_price(S_path, trigger = 0.80*S_0)   # 3,032.3040\n",
    "\n",
    "    # Edge Case\n",
    "    if(S_t3 == 0 or S_t2 == 0 or S_t1 == 0):\n",
    "        return 0\n",
    "\n",
    "    # 1. Fixed returns independent of trigger events\n",
    "    Y_T = (0.55*Y_0) * (S_T/S_0)\n",
    "\n",
    "    # 2. Adjusted returns after trigger events\n",
    "    if S_t3 is not None:\n",
    "        multiplier = (S_T/S_t1 + S_T/S_t2 + S_T/S_t3)\n",
    "    elif S_t2 is not None:\n",
    "        multiplier = (S_T/S_t1 + S_T/S_t2)\n",
    "    elif S_t1 is not None:\n",
    "        multiplier = (S_T/S_t1)\n",
    "    else:\n",
    "        multiplier = 0.0\n",
    "    Y_T += (0.15*Y_0) * multiplier\n",
    "\n",
    "    # 3. Daily accrued interest of 9.85% p.a.\n",
    "    if S_t3 is not None:\n",
    "        principal = 0.0\n",
    "    elif S_t2 is not None:\n",
    "        principal = (0.15*Y_0)\n",
    "    elif S_t1 is not None:\n",
    "        principal = (0.30*Y_0)\n",
    "    else:\n",
    "        principal = (0.45*Y_0)\n",
    "    Y_T += principal * (1 + rate * years)\n",
    "    \n",
    "    return Y_T"
   ]
  },
  {
   "cell_type": "code",
   "execution_count": 111,
   "metadata": {},
   "outputs": [
    {
     "name": "stdout",
     "output_type": "stream",
     "text": [
      "S_T = 0.0 \t   Performance of Asset = -100.00% \t Performance of Certificate = -100.00% \t Payoff = 0.00\n",
      "S_T = 2653.27 \t   Performance of Asset = -30.00% \t Performance of Certificate = -23.91% \t Payoff = 760.89\n",
      "S_T = 3032.3 \t   Performance of Asset = -20.00% \t Performance of Certificate = -13.04% \t Payoff = 869.59\n",
      "S_T = 3411.34 \t   Performance of Asset = -10.00% \t Performance of Certificate = -2.17% \t Payoff = 978.29\n",
      "S_T = 3790.38 \t   Performance of Asset = 0.00% \t Performance of Certificate = 8.70% \t Payoff = 1086.98\n",
      "S_T = 4169.42 \t   Performance of Asset = 10.00% \t Performance of Certificate = 19.57% \t Payoff = 1195.68\n",
      "S_T = 4548.46 \t   Performance of Asset = 20.00% \t Performance of Certificate = 30.44% \t Payoff = 1304.38\n",
      "S_T = 4927.49 \t   Performance of Asset = 30.00% \t Performance of Certificate = 41.31% \t Payoff = 1413.08\n"
     ]
    }
   ],
   "source": [
    "# OPTIONAL: Testing the payoff function with values in the factsheet (Flawed)\n",
    "S_0 = 3790.38\n",
    "S_path_partial = [3790.41, 3800.15, 3373.44, 4000.00, 3183.92, 2994.40]\n",
    "S_T = [0.0, 2653.27, 3032.3, 3411.34, 3790.38, 4169.42, 4548.46, 4927.49]\n",
    "\n",
    "for final_closing_price in S_T:\n",
    "    S_path = S_path_partial + [final_closing_price]\n",
    "    payoff = calculate_payoff(S_path)\n",
    "\n",
    "    print(f\"S_T = {final_closing_price} \\t   Performance of Asset = {100*(final_closing_price - S_0)/S_0:.2f}% \\t Performance of Certificate = {(payoff - 1000)/10:.2f}% \\t Payoff = {payoff:.2f}\")"
   ]
  },
  {
   "cell_type": "markdown",
   "metadata": {},
   "source": [
    "### 4. Geometric Brownian Motion\n",
    "\n",
    "Implmentation of the Black-Scholes model for pricing. THe form derived from Ito's lemma was used."
   ]
  },
  {
   "cell_type": "code",
   "execution_count": 112,
   "metadata": {},
   "outputs": [],
   "source": [
    "@jit\n",
    "def simulate_GBM_exact(num_sim, S_0, r, sigma, delta_t, T, Z=None):\n",
    "  # Initializations\n",
    "  v = r - 0.5*(sigma**2)\n",
    "  num_periods = int(T/delta_t)\n",
    "  S_matrix = np.zeros(shape=(num_sim, num_periods + 1))\n",
    "\n",
    "  # Perform the sampling from the standard normal dsitribution\n",
    "  if(type(Z) != np.ndarray):\n",
    "    Z = np.random.normal(0, 1, size=(num_sim, num_periods))\n",
    "\n",
    "  # We are using the form derived by Ito's lemma \n",
    "  for i in range(num_sim):\n",
    "    S_matrix[i][0] = S_0\n",
    "    for j in range(1, num_periods + 1):\n",
    "      #log_diff = mu*delta_t - 0.5*(sigma**2)*delta_t + (sigma*np.sqrt(delta_t) * Z[i][j-1])\n",
    "      log_diff = v*delta_t + (sigma*np.sqrt(delta_t) * Z[i][j-1])\n",
    "      S_matrix[i][j] = S_matrix[i][j-1]*np.exp(log_diff)\n",
    "\n",
    "  return S_matrix"
   ]
  },
  {
   "cell_type": "markdown",
   "metadata": {},
   "source": [
    "### 5. Variance Reduction for GBM\n",
    "\n",
    "Functions that implement,\n",
    "\n",
    "<ol> \n",
    "<li> Antithetic Variates\n",
    "<li> Control Variates\n",
    "<li> Empirical Martingale Simulation\n",
    "</ol>"
   ]
  },
  {
   "cell_type": "code",
   "execution_count": 113,
   "metadata": {},
   "outputs": [],
   "source": [
    "@jit\n",
    "def simulate_GBM_exact_AV(num_sim, S_0, r, sigma, delta_t, T, Z=None):\n",
    "  # Initializations\n",
    "  v = r - 0.5*(sigma**2)\n",
    "  num_periods = int(T/delta_t)\n",
    "  S_matrix = np.zeroes(shape=(num_sim, num_periods + 1))\n",
    "  S_tilde_matrix = np.zeroes(shape=(num_sim, num_periods + 1))\n",
    "\n",
    "  # Perform the sampling from the standard normal dsitribution\n",
    "  if(type(Z) != np.ndarray):\n",
    "    Z = np.random.normal(0, 1, size=(num_sim, num_periods))\n",
    "\n",
    "  # Ito's lemma form (just a bit more concise)\n",
    "  for i in range(num_sim):\n",
    "    S_matrix[i][0] = S_0\n",
    "    S_tilde_matrix[i][0] = S_0\n",
    "    for j in range(1, num_periods + 1):\n",
    "        S_matrix[i][j] = S_matrix[i][j-1]*np.exp(v*delta_t + (sigma*np.sqrt(delta_t) * Z[i][j-1]))\n",
    "        S_tilde_matrix[i][j] = S_tilde_matrix[i][j-1]*np.exp(v*delta_t - (sigma*np.sqrt(delta_t) * Z[i][j-1]))  # Negative Z(.)  \n",
    "  \n",
    "  return np.vstack((S_matrix, S_tilde_matrix))"
   ]
  },
  {
   "cell_type": "code",
   "execution_count": 114,
   "metadata": {},
   "outputs": [],
   "source": [
    "# TODO: Control Variates"
   ]
  },
  {
   "cell_type": "code",
   "execution_count": 115,
   "metadata": {},
   "outputs": [],
   "source": [
    "@jit\n",
    "def simulate_GBM_exact_EMS(num_sim, S_0, r, sigma, delta_t, T, Z=None):\n",
    "  # Initializations\n",
    "  num_periods = int(T/delta_t)\n",
    "  S_matrix = np.zeroes(shape=(num_sim, num_periods + 1))\n",
    "  Z_matrix = np.zeroes(shape=(num_sim + 1, num_periods + 1))\n",
    "\n",
    "  # Simulating the GBM path and set the first coloumn of S_matrix\n",
    "  if(type(Z) == np.ndarray):\n",
    "    gbm_path = simulate_GBM_exact(num_sim, S_0, r, sigma, delta_t, T, Z=Z)\n",
    "  else:\n",
    "    gbm_path = simulate_GBM_exact(num_sim, S_0, r, sigma, delta_t, T)\n",
    "    \n",
    "  S_matrix[:, 0] = gbm_path[:, 0]\n",
    "\n",
    "  # Correcting the path using EMS\n",
    "  for j in range(1, num_periods+1):\n",
    "    Z_matrix[:num_sim, j-1] = (S_matrix[:, j-1] * gbm_path[:, j])/gbm_path[:, j-1]\n",
    "    Z_matrix[num_sim, j-1] = np.exp(-r * ((j-1) * delta_t)) * np.mean(Z_matrix[:num_sim, j-1])\n",
    "    S_matrix[:, j] = (gbm_path[:, 0] * Z_matrix[:num_sim, j-1])/Z[num_sim, j-1]\n",
    "\n",
    "  return S_matrix"
   ]
  },
  {
   "cell_type": "markdown",
   "metadata": {},
   "source": [
    "### 6. Backtesting GBM\n",
    "\n",
    "We take 252 day long windows of data for each iteration.\n",
    "\n",
    "eg: The first window begins on 9th August, 2022 and ends on 9th August, 2023 and we price the product on 10th August."
   ]
  },
  {
   "cell_type": "markdown",
   "metadata": {},
   "source": [
    "#### Parameters and Rolling Window"
   ]
  },
  {
   "cell_type": "code",
   "execution_count": 116,
   "metadata": {},
   "outputs": [],
   "source": [
    "# Parameters for each set of simulations\n",
    "num_sim = 10000    # Push to 1,000,000\n",
    "delta_t = 1/252\n",
    "T = 3   # CHECK this\n",
    "num_periods = int(T/delta_t)"
   ]
  },
  {
   "cell_type": "code",
   "execution_count": 117,
   "metadata": {},
   "outputs": [],
   "source": [
    "# One set of simulations for each date in [start_date, end_date]\n",
    "window_size = 252\n",
    "start_date = pd.to_datetime(\"2023-08-09\")\n",
    "end_date = pd.to_datetime(\"2022-10-20\")\n",
    "#end_date = pd.to_datetime(\"2022-11-09\")  # TODO: Update dataset\n",
    "\n",
    "simulation_dates = asset_prices.index[asset_prices.index >= start_date]"
   ]
  },
  {
   "cell_type": "code",
   "execution_count": 118,
   "metadata": {},
   "outputs": [
    {
     "name": "stdout",
     "output_type": "stream",
     "text": [
      "Collected data for 52 windows of size 252 each.\n"
     ]
    }
   ],
   "source": [
    "# We shall sample a window of size 252 from the historical data (EXCLUDING the current date)\n",
    "backtest_windows = []\n",
    "\n",
    "for window_end_date in simulation_dates:\n",
    "    # Jump back 252 points\n",
    "    window_start_index = asset_prices.index.get_loc(window_end_date) - window_size\n",
    "    assert window_start_index >= 0\n",
    "\n",
    "    # Slice the dataset according to the window\n",
    "    window_start_date = asset_prices.index[window_start_index]\n",
    "    window_asset_data = asset_prices[(asset_prices.index >= window_start_date) & (asset_prices.index < window_end_date)]    # CHECK THIS with TA\n",
    "\n",
    "    # Collect all the windows\n",
    "    assert len(window_asset_data) == window_size\n",
    "    backtest_windows.append(np.array(window_asset_data[\"value\"]))\n",
    "\n",
    "print(f\"Collected data for {len(backtest_windows)} windows of size {window_size} each.\")"
   ]
  },
  {
   "cell_type": "code",
   "execution_count": 119,
   "metadata": {},
   "outputs": [],
   "source": [
    "# # TODO: Try df.rolling()\n",
    "\n",
    "# prev_window_start_date = None\n",
    "\n",
    "# for window_start_date in asset_prices.index:\n",
    "#     # Termination condiditon\n",
    "#     if window_start_date > last_window_start_date:\n",
    "#         break\n",
    "    \n",
    "#     # Some of the windows have 251 data points due to public holidays\n",
    "#     window_end_date = window_start_date + pd.DateOffset(years=1)\n",
    "#     window_asset_data = asset_prices[(asset_prices.index >= window_start_date) & (asset_prices.index < window_end_date)]  # Strict inequality for window_end_date\n",
    "\n",
    "#     # CHECK: Adjusting the shorter windows by looking back an extra day\n",
    "#     if len(window_asset_data) < window_size:\n",
    "#         window_asset_data = asset_prices[(asset_prices.index >= prev_window_start_date) & (asset_prices.index < window_end_date)]\n",
    "#         assert len(window_asset_data) == 252\n",
    "#     prev_window_start_date = window_start_date\n"
   ]
  },
  {
   "cell_type": "markdown",
   "metadata": {},
   "source": [
    "#### Interpolating the Interest Rate Curves"
   ]
  },
  {
   "cell_type": "code",
   "execution_count": 120,
   "metadata": {},
   "outputs": [
    {
     "data": {
      "text/plain": [
       "(301, 12)"
      ]
     },
     "execution_count": 120,
     "metadata": {},
     "output_type": "execute_result"
    }
   ],
   "source": [
    "maturities = np.array([1/12, 2/12, 3/12, 4/12, 6/12, 1, 2, 3, 5, 7, 10, 20, 30])\n",
    "interest_rates.columns = maturities\n",
    "\n",
    "# The 4 month interest rate is a bit sparse\n",
    "interest_rates = interest_rates.dropna(how='any', axis=1)\n",
    "maturities = interest_rates.columns.to_numpy()\n",
    "interest_rates.shape"
   ]
  },
  {
   "cell_type": "code",
   "execution_count": 121,
   "metadata": {},
   "outputs": [
    {
     "name": "stdout",
     "output_type": "stream",
     "text": [
      "Rate not found for date 2023-10-09 00:00:00, using the rate from the previous date.\n"
     ]
    }
   ],
   "source": [
    "# def interpolate_interest_rate(date, interest_rates):\n",
    "#     # Find the nearest dates before and after the desired date\n",
    "#     previous_date = None\n",
    "#     next_date = None\n",
    "#     for index_date in interest_rates.index:\n",
    "#         if index_date <= date:\n",
    "#             previous_date = index_date\n",
    "#         elif index_date > date:\n",
    "#             next_date = index_date\n",
    "#             break\n",
    "\n",
    "#     if previous_date is not None and next_date is not None:\n",
    "#         # Perform linear interpolation\n",
    "#         weight = (date - previous_date) / (next_date - previous_date)\n",
    "#         interpolated_rate = (1 - weight) * interest_rates.loc[previous_date] + weight * interest_rates.loc[next_date]\n",
    "#         return interpolated_rate\n",
    "    \n",
    "#     else:\n",
    "#         # Handle cases where interpolation is not possible\n",
    "#         print(f\"Cannot interpolate for date {date}, missing adjacent dates.\")\n",
    "#         return None\n",
    "\n",
    "curves = []\n",
    "for date in simulation_dates:\n",
    "    try:\n",
    "        interest_rate = interest_rates.loc[date].to_numpy()\n",
    "        curve_fit, status = calibrate_ns_ols(maturities, interest_rate)\n",
    "        curves.append(curve_fit)\n",
    "\n",
    "    except KeyError:\n",
    "        # Handle the case where the rate is not found\n",
    "        print(f\"Rate not found for date {date}, using the rate from the previous date.\")    # CHECK THIS!\n",
    "        previous_date = interest_rates.index[interest_rates.index <= date].max()\n",
    "        corrected_rate = interest_rates.loc[previous_date].to_numpy()\n",
    "        curve_fit, status = calibrate_ns_ols(maturities, corrected_rate)\n",
    "        curves.append(curve_fit)\n",
    "        # # Handle the case where the interest rate is not found\n",
    "        # print(f\"Rate not found for date {date}, interpolating.\")\n",
    "        # corrected_rate = interpolate_interest_rate(date, interest_rates)\n",
    "        # curve_fit, status = calibrate_ns_ols(maturities, corrected_rate)\n",
    "        # curves.append(curve_fit)    \n",
    "\n",
    "    except Exception as e:\n",
    "        print(f\"An error occurred for date {date}: {e}\")"
   ]
  },
  {
   "cell_type": "markdown",
   "metadata": {},
   "source": [
    "#### Helper Functions"
   ]
  },
  {
   "cell_type": "code",
   "execution_count": 122,
   "metadata": {},
   "outputs": [],
   "source": [
    "def get_lognormal_statistics(prices, delta_t):\n",
    "  log_data = np.log(prices)\n",
    "  log_returns = log_data[1:] - log_data[:-1]\n",
    "  v = np.mean(log_returns)/delta_t\n",
    "  sigma = np.std(log_returns)/np.sqrt(delta_t)\n",
    "  return v, sigma"
   ]
  },
  {
   "cell_type": "code",
   "execution_count": 123,
   "metadata": {},
   "outputs": [],
   "source": [
    "# Generating a common random variable/common randomness matrix\n",
    "Z_matrix = np.random.normal(0, 1, size=(len(simulation_dates), num_sim, num_periods))"
   ]
  },
  {
   "cell_type": "markdown",
   "metadata": {},
   "source": [
    "#### Running the Simulations aka The Exciting Part"
   ]
  },
  {
   "cell_type": "code",
   "execution_count": 124,
   "metadata": {},
   "outputs": [
    {
     "name": "stderr",
     "output_type": "stream",
     "text": [
      "C:\\Users\\rahul\\AppData\\Local\\Temp\\ipykernel_8804\\710426812.py:1: NumbaWarning: \u001b[1m\n",
      "Compilation is falling back to object mode WITH looplifting enabled because Function \"simulate_GBM_exact\" failed type inference due to: \u001b[1m\u001b[1m\u001b[1mNo implementation of function Function(<class 'type'>) found for signature:\n",
      " \n",
      " >>> type(array(float64, 2d, C))\n",
      " \n",
      "There are 2 candidate implementations:\n",
      "\u001b[1m      - Of which 2 did not match due to:\n",
      "      Overload of function 'type': File: numba\\core\\typing\\builtins.py: Line 1094.\n",
      "        With argument(s): '(array(float64, 2d, C))':\u001b[0m\n",
      "\u001b[1m       No match.\u001b[0m\n",
      "\u001b[0m\n",
      "\u001b[0m\u001b[1mDuring: resolving callee type: Function(<class 'type'>)\u001b[0m\n",
      "\u001b[0m\u001b[1mDuring: typing of call at C:\\Users\\rahul\\AppData\\Local\\Temp\\ipykernel_8804\\710426812.py (9)\n",
      "\u001b[0m\n",
      "\u001b[1m\n",
      "File \"C:\\Users\\rahul\\AppData\\Local\\Temp\\ipykernel_8804\\710426812.py\", line 9:\u001b[0m\n",
      "\u001b[1mdef simulate_GBM_exact(num_sim, S_0, r, sigma, delta_t, T, Z=None):\n",
      "    <source elided>\n",
      "  # Perform the sampling from the standard normal dsitribution\n",
      "\u001b[1m  if(type(Z) != np.ndarray):\n",
      "\u001b[0m  \u001b[1m^\u001b[0m\u001b[0m\n",
      "\u001b[0m\n",
      "  @jit\n",
      "C:\\Users\\rahul\\AppData\\Local\\Temp\\ipykernel_8804\\710426812.py:1: NumbaWarning: \u001b[1m\n",
      "Compilation is falling back to object mode WITHOUT looplifting enabled because Function \"simulate_GBM_exact\" failed type inference due to: \u001b[1m\u001b[1mCannot determine Numba type of <class 'numba.core.dispatcher.LiftedLoop'>\u001b[0m\n",
      "\u001b[1m\n",
      "File \"C:\\Users\\rahul\\AppData\\Local\\Temp\\ipykernel_8804\\710426812.py\", line 13:\u001b[0m\n",
      "\u001b[1mdef simulate_GBM_exact(num_sim, S_0, r, sigma, delta_t, T, Z=None):\n",
      "    <source elided>\n",
      "  # We are using the form derived by Ito's lemma \n",
      "\u001b[1m  for i in range(num_sim):\n",
      "\u001b[0m  \u001b[1m^\u001b[0m\u001b[0m\n",
      "\u001b[0m\u001b[0m\n",
      "  @jit\n",
      "c:\\Users\\rahul\\miniconda3\\envs\\mh4518\\Lib\\site-packages\\numba\\core\\object_mode_passes.py:151: NumbaWarning: \u001b[1mFunction \"simulate_GBM_exact\" was compiled in object mode without forceobj=True, but has lifted loops.\n",
      "\u001b[1m\n",
      "File \"C:\\Users\\rahul\\AppData\\Local\\Temp\\ipykernel_8804\\710426812.py\", line 1:\u001b[0m\n",
      "\u001b[1m\u001b[1m@jit\n",
      "\u001b[0m\u001b[1m^\u001b[0m\u001b[0m\n",
      "\u001b[0m\n",
      "  warnings.warn(errors.NumbaWarning(warn_msg,\n"
     ]
    }
   ],
   "source": [
    "# GBM without Variance Reduction\n",
    "GBM_expected_values = []\n",
    "\n",
    "for date, prices in zip(simulation_dates, backtest_windows):\n",
    "  # Convert date to index (so we can lookup prices and interest rate curves)\n",
    "  date_index = simulation_dates.get_loc(date)\n",
    "\n",
    "  # Estimate r\n",
    "  delta = num_periods - date_index     # Correct this \n",
    "  tau = delta / 252\n",
    "  #tau = delta * delta_t\n",
    "  curve_fit = curves[date_index]\n",
    "  r = curve_fit(tau)/100\n",
    "\n",
    "  # Calulcate v and sigma\n",
    "  v, sigma = get_lognormal_statistics(prices, delta_t)\n",
    "\n",
    "  # Simulate prices, calculate payoff and expected value\n",
    "  simulated_prices = simulate_GBM_exact(num_sim, prices[-1], r, sigma, delta_t, tau, Z=Z_matrix[date_index])\n",
    "  payoffs = np.exp(-r*tau)*np.apply_along_axis(func1d=calculate_payoff, axis=1, arr=simulated_prices)    # CHECK this\n",
    "  expected_value = np.mean(payoffs)\n",
    "  GBM_expected_values.append(expected_value)"
   ]
  },
  {
   "cell_type": "code",
   "execution_count": 125,
   "metadata": {},
   "outputs": [],
   "source": [
    "# # Antithetic Variance Reduction\n",
    "# final_date = DT.datetime.strptime(\"2023-08-17\", \"%Y-%m-%d\")\n",
    "# AV_evs=[]\n",
    "# for prices,date in zip(prices_array,backtest_period.index):\n",
    "#   delta = 252-date\n",
    "#   tau = (delta)/252\n",
    "#   v, sd = get_statistics(prices, dt)\n",
    "#   try:\n",
    "#     curve_fit=curves[date]\n",
    "#   except:\n",
    "#     curve_fit=curves[date-1]\n",
    "#   r = curve_fit(tau)/100\n",
    "#   rnv_v = r-sd**2/2\n",
    "#   returns_sim = SimGBMexactAV(int(Nsim/2), prices[-1], rnv_v, sd, dt, tau,Z=Z[date])\n",
    "#   payoff_sim = np.exp(-r*tau)*np.apply_along_axis(payoff, 1, returns_sim,1-tau)\n",
    "#   ev = np.mean(payoff_sim)\n",
    "#   AV_evs.append(ev)"
   ]
  },
  {
   "cell_type": "code",
   "execution_count": 126,
   "metadata": {},
   "outputs": [],
   "source": [
    "# TODO: Control Variates"
   ]
  },
  {
   "cell_type": "code",
   "execution_count": 127,
   "metadata": {},
   "outputs": [],
   "source": [
    "# # EMS Variance Reduction\n",
    "# final_date = DT.datetime.strptime(\"2023-08-17\", \"%Y-%m-%d\")\n",
    "# EMS_evs=[]\n",
    "\n",
    "# for prices,date in zip(prices_array,backtest_period.index):\n",
    "#   delta = 252-date\n",
    "#   tau = (delta)/252\n",
    "#   v, sd = get_statistics(prices, dt)\n",
    "#   try:\n",
    "#     curve_fit=curves[date]\n",
    "#   except:\n",
    "#     curve_fit=curves[date-1]\n",
    "#   r = curve_fit(tau)/100\n",
    "#   rnv_v = r-sd**2/2\n",
    "\n",
    "#   returns_sim = SimGBMexactEMS(Nsim, prices[-1], rnv_v, r, sd, dt, tau,Z=Z[date])\n",
    "#   payoff_sim = np.exp(-r*tau)*np.apply_along_axis(payoff, 1, returns_sim,1-tau)\n",
    "#   ev = np.mean(payoff_sim)\n",
    "#   EMS_evs.append(ev)"
   ]
  },
  {
   "cell_type": "markdown",
   "metadata": {},
   "source": [
    "#### Plotting the Results aka The Moment of Truth"
   ]
  },
  {
   "cell_type": "code",
   "execution_count": 128,
   "metadata": {},
   "outputs": [
    {
     "data": {
      "text/html": [
       "<div>\n",
       "<style scoped>\n",
       "    .dataframe tbody tr th:only-of-type {\n",
       "        vertical-align: middle;\n",
       "    }\n",
       "\n",
       "    .dataframe tbody tr th {\n",
       "        vertical-align: top;\n",
       "    }\n",
       "\n",
       "    .dataframe thead th {\n",
       "        text-align: right;\n",
       "    }\n",
       "</style>\n",
       "<table border=\"1\" class=\"dataframe\">\n",
       "  <thead>\n",
       "    <tr style=\"text-align: right;\">\n",
       "      <th></th>\n",
       "      <th>Actual</th>\n",
       "      <th>GBM</th>\n",
       "    </tr>\n",
       "    <tr>\n",
       "      <th>date</th>\n",
       "      <th></th>\n",
       "      <th></th>\n",
       "    </tr>\n",
       "  </thead>\n",
       "  <tbody>\n",
       "    <tr>\n",
       "      <th>2023-08-09</th>\n",
       "      <td>1124.23</td>\n",
       "      <td>1140.286588</td>\n",
       "    </tr>\n",
       "    <tr>\n",
       "      <th>2023-08-10</th>\n",
       "      <td>1125.79</td>\n",
       "      <td>1135.929849</td>\n",
       "    </tr>\n",
       "    <tr>\n",
       "      <th>2023-08-11</th>\n",
       "      <td>1122.01</td>\n",
       "      <td>1137.630130</td>\n",
       "    </tr>\n",
       "    <tr>\n",
       "      <th>2023-08-14</th>\n",
       "      <td>1125.99</td>\n",
       "      <td>1132.315943</td>\n",
       "    </tr>\n",
       "    <tr>\n",
       "      <th>2023-08-15</th>\n",
       "      <td>1121.69</td>\n",
       "      <td>1139.348446</td>\n",
       "    </tr>\n",
       "  </tbody>\n",
       "</table>\n",
       "</div>"
      ],
      "text/plain": [
       "             Actual          GBM\n",
       "date                            \n",
       "2023-08-09  1124.23  1140.286588\n",
       "2023-08-10  1125.79  1135.929849\n",
       "2023-08-11  1122.01  1137.630130\n",
       "2023-08-14  1125.99  1132.315943\n",
       "2023-08-15  1121.69  1139.348446"
      ]
     },
     "execution_count": 128,
     "metadata": {},
     "output_type": "execute_result"
    }
   ],
   "source": [
    "simulation_reults = pd.DataFrame(index=simulation_dates)\n",
    "product_prices = product_prices[product_prices.index >= start_date]\n",
    "product_prices = product_prices.drop(pd.to_datetime(\"2023-09-04\"))  # Labour day nonesense\n",
    "assert len(product_prices) == len(simulation_reults)\n",
    "\n",
    "# Fill data\n",
    "simulation_reults['Actual'] = product_prices[\"value\"]\n",
    "simulation_reults['GBM'] = GBM_expected_values\n",
    "# backtest_data['AV'] = AV_evs\n",
    "# backtest_data['CV'] = CV_evs\n",
    "# backtest_data['CV_with_min'] = CV_min_evs\n",
    "# backtest_data['EMS'] = EMS_evs\n",
    "\n",
    "#simulation_reults.dropna(inplace=True)\n",
    "simulation_reults.head()"
   ]
  },
  {
   "cell_type": "code",
   "execution_count": 129,
   "metadata": {},
   "outputs": [
    {
     "data": {
      "text/plain": [
       "Text(0, 0.5, 'Derivative Price in USD')"
      ]
     },
     "execution_count": 129,
     "metadata": {},
     "output_type": "execute_result"
    },
    {
     "data": {
      "image/png": "[encoded data removed]",
      "text/plain": [
       "<Figure size 1400x800 with 1 Axes>"
      ]
     },
     "metadata": {},
     "output_type": "display_data"
    }
   ],
   "source": [
    "plt.figure(figsize=(14,8))\n",
    "plt.title('Backtesting ',fontdict={\"fontsize\":18})\n",
    "\n",
    "simulation_reults['Actual'].plot(legend=True)\n",
    "simulation_reults['GBM'].plot(legend=True,style=\"--\")\n",
    "# simulation_reults['AV'].plot(legend=True,style=\"--\")\n",
    "# simulation_reults['CV'].plot(legend=True,style=\"--\")\n",
    "# simulation_reults['CV_with_min'].plot(legend=True,style=\"--\")\n",
    "# simulation_reults['EMS'].plot(legend=True,style=\"--\")\n",
    "\n",
    "plt.xlabel('Market Days')\n",
    "plt.ylabel('Derivative Price in USD')"
   ]
  },
  {
   "cell_type": "markdown",
   "metadata": {},
   "source": [
    "### 7. Estimating Sensitivities"
   ]
  },
  {
   "cell_type": "markdown",
   "metadata": {},
   "source": []
  }
 ],
 "metadata": {
  "kernelspec": {
   "display_name": "mh4518",
   "language": "python",
   "name": "python3"
  },
  "language_info": {
   "codemirror_mode": {
    "name": "ipython",
    "version": 3
   },
   "file_extension": ".py",
   "mimetype": "text/x-python",
   "name": "python",
   "nbconvert_exporter": "python",
   "pygments_lexer": "ipython3",
   "version": "3.11.5"
  }
 },
 "nbformat": 4,
 "nbformat_minor": 2
}
